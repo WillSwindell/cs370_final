{
 "cells": [
  {
   "cell_type": "markdown",
   "metadata": {},
   "source": [
    "# Final Project\n",
    "\n",
    "Description: Inspired by the recent decision by the US supreme court to federally permit betting on sporting events, the intent of this fnal project is to use existing data from the outcomes of NBA games to predict the winners of future matchups. The ultimate intent is to create a classifier that is similar in accuracy to the models created by sports betting agencies so as to make reliable predictions and know which games to bet on. While the analysis in this project will likely not incorporte sufficient data to be reliable in predictions that \"beat vegas,\" it should serve as a good starting point for understanding which inputs are important for predicting NBA outcomes. "
   ]
  },
  {
   "cell_type": "code",
   "execution_count": 54,
   "metadata": {},
   "outputs": [],
   "source": [
    "# Import necessary packages\n",
    "\n",
    "import pandas as pd\n",
    "import numpy as np\n",
    "import seaborn as sns\n",
    "import matplotlib.pyplot as plt"
   ]
  },
  {
   "cell_type": "code",
   "execution_count": 55,
   "metadata": {},
   "outputs": [],
   "source": [
    "# Data files\n",
    "\n",
    "games_data = \"data/games.csv\"\n",
    "standings_data = \"data/ranking.csv\""
   ]
  },
  {
   "cell_type": "code",
   "execution_count": 56,
   "metadata": {},
   "outputs": [
    {
     "name": "stderr",
     "output_type": "stream",
     "text": [
      "/opt/anaconda3/lib/python3.8/site-packages/pandas/core/indexing.py:659: SettingWithCopyWarning: \n",
      "A value is trying to be set on a copy of a slice from a DataFrame.\n",
      "Try using .loc[row_indexer,col_indexer] = value instead\n",
      "\n",
      "See the caveats in the documentation: https://pandas.pydata.org/pandas-docs/stable/user_guide/indexing.html#returning-a-view-versus-a-copy\n",
      "  self.obj[k] = np.nan\n",
      "<ipython-input-56-43c5fd10bdb0>:7: SettingWithCopyWarning: \n",
      "A value is trying to be set on a copy of a slice from a DataFrame.\n",
      "Try using .loc[row_indexer,col_indexer] = value instead\n",
      "\n",
      "See the caveats in the documentation: https://pandas.pydata.org/pandas-docs/stable/user_guide/indexing.html#returning-a-view-versus-a-copy\n",
      "  data[['HOME_PCT', 'AWAY_PCT', 'HOME_hr', 'HOME_ar', 'AWAY_hr', 'AWAY_ar']] = \"\"\n",
      "/opt/anaconda3/lib/python3.8/site-packages/pandas/core/indexing.py:1765: SettingWithCopyWarning: \n",
      "A value is trying to be set on a copy of a slice from a DataFrame.\n",
      "Try using .loc[row_indexer,col_indexer] = value instead\n",
      "\n",
      "See the caveats in the documentation: https://pandas.pydata.org/pandas-docs/stable/user_guide/indexing.html#returning-a-view-versus-a-copy\n",
      "  isetter(loc, value)\n"
     ]
    },
    {
     "data": {
      "text/plain": [
       "Index(['TEAM_ID', 'LEAGUE_ID', 'SEASON_ID', 'STANDINGSDATE', 'CONFERENCE',\n",
       "       'TEAM', 'G', 'W', 'L', 'W_PCT', 'HOME_RECORD', 'ROAD_RECORD',\n",
       "       'RETURNTOPLAY'],\n",
       "      dtype='object')"
      ]
     },
     "execution_count": 56,
     "metadata": {},
     "output_type": "execute_result"
    }
   ],
   "source": [
    "# Open and read datasets\n",
    "\n",
    "g_data = pd.read_csv(games_data)\n",
    "s_data = pd.read_csv(standings_data)\n",
    "\n",
    "data = g_data[['GAME_DATE_EST', 'HOME_TEAM_ID', 'VISITOR_TEAM_ID', 'HOME_TEAM_WINS']]\n",
    "data[['HOME_PCT', 'AWAY_PCT', 'HOME_hr', 'HOME_ar', 'AWAY_hr', 'AWAY_ar']] = \"\"\n",
    "s_data.columns"
   ]
  },
  {
   "cell_type": "code",
   "execution_count": 58,
   "metadata": {},
   "outputs": [
    {
     "data": {
      "text/html": [
       "<div>\n",
       "<style scoped>\n",
       "    .dataframe tbody tr th:only-of-type {\n",
       "        vertical-align: middle;\n",
       "    }\n",
       "\n",
       "    .dataframe tbody tr th {\n",
       "        vertical-align: top;\n",
       "    }\n",
       "\n",
       "    .dataframe thead th {\n",
       "        text-align: right;\n",
       "    }\n",
       "</style>\n",
       "<table border=\"1\" class=\"dataframe\">\n",
       "  <thead>\n",
       "    <tr style=\"text-align: right;\">\n",
       "      <th></th>\n",
       "      <th>GAME_DATE_EST</th>\n",
       "      <th>HOME_TEAM_ID</th>\n",
       "      <th>VISITOR_TEAM_ID</th>\n",
       "      <th>HOME_TEAM_WINS</th>\n",
       "      <th>HOME_PCT</th>\n",
       "      <th>AWAY_PCT</th>\n",
       "      <th>HOME_hr</th>\n",
       "      <th>HOME_ar</th>\n",
       "      <th>AWAY_hr</th>\n",
       "      <th>AWAY_ar</th>\n",
       "    </tr>\n",
       "  </thead>\n",
       "  <tbody>\n",
       "    <tr>\n",
       "      <th>0</th>\n",
       "      <td>2022-03-12</td>\n",
       "      <td>1610612748</td>\n",
       "      <td>1610612750</td>\n",
       "      <td>0</td>\n",
       "      <td>0.652</td>\n",
       "      <td>0.565</td>\n",
       "      <td>24-9</td>\n",
       "      <td>21-15</td>\n",
       "      <td>22-12</td>\n",
       "      <td>17-18</td>\n",
       "    </tr>\n",
       "    <tr>\n",
       "      <th>1</th>\n",
       "      <td>2022-03-12</td>\n",
       "      <td>1610612741</td>\n",
       "      <td>1610612739</td>\n",
       "      <td>1</td>\n",
       "      <td>0.612</td>\n",
       "      <td>0.567</td>\n",
       "      <td>25-10</td>\n",
       "      <td>16-16</td>\n",
       "      <td>20-11</td>\n",
       "      <td>18-18</td>\n",
       "    </tr>\n",
       "    <tr>\n",
       "      <th>2</th>\n",
       "      <td>2022-03-12</td>\n",
       "      <td>1610612759</td>\n",
       "      <td>1610612754</td>\n",
       "      <td>0</td>\n",
       "      <td>0.382</td>\n",
       "      <td>0.338</td>\n",
       "      <td>13-21</td>\n",
       "      <td>13-21</td>\n",
       "      <td>15-19</td>\n",
       "      <td>8-26</td>\n",
       "    </tr>\n",
       "    <tr>\n",
       "      <th>3</th>\n",
       "      <td>2022-03-12</td>\n",
       "      <td>1610612744</td>\n",
       "      <td>1610612749</td>\n",
       "      <td>1</td>\n",
       "      <td>0.676</td>\n",
       "      <td>0.618</td>\n",
       "      <td>28-7</td>\n",
       "      <td>18-15</td>\n",
       "      <td>24-12</td>\n",
       "      <td>18-14</td>\n",
       "    </tr>\n",
       "    <tr>\n",
       "      <th>4</th>\n",
       "      <td>2022-03-12</td>\n",
       "      <td>1610612743</td>\n",
       "      <td>1610612761</td>\n",
       "      <td>0</td>\n",
       "      <td>0.588</td>\n",
       "      <td>0.552</td>\n",
       "      <td>20-13</td>\n",
       "      <td>20-15</td>\n",
       "      <td>17-15</td>\n",
       "      <td>20-15</td>\n",
       "    </tr>\n",
       "  </tbody>\n",
       "</table>\n",
       "</div>"
      ],
      "text/plain": [
       "  GAME_DATE_EST  HOME_TEAM_ID  VISITOR_TEAM_ID  HOME_TEAM_WINS HOME_PCT  \\\n",
       "0    2022-03-12    1610612748       1610612750               0    0.652   \n",
       "1    2022-03-12    1610612741       1610612739               1    0.612   \n",
       "2    2022-03-12    1610612759       1610612754               0    0.382   \n",
       "3    2022-03-12    1610612744       1610612749               1    0.676   \n",
       "4    2022-03-12    1610612743       1610612761               0    0.588   \n",
       "\n",
       "  AWAY_PCT HOME_hr HOME_ar AWAY_hr AWAY_ar  \n",
       "0    0.565    24-9   21-15   22-12   17-18  \n",
       "1    0.567   25-10   16-16   20-11   18-18  \n",
       "2    0.338   13-21   13-21   15-19    8-26  \n",
       "3    0.618    28-7   18-15   24-12   18-14  \n",
       "4    0.552   20-13   20-15   17-15   20-15  "
      ]
     },
     "execution_count": 58,
     "metadata": {},
     "output_type": "execute_result"
    }
   ],
   "source": [
    "# Combining datasets to include record\n",
    "data.columns\n",
    "first_10 = data.iloc[:10]\n",
    "\n",
    "def combine(df):\n",
    "    for index, row in df.iterrows():\n",
    "        date = row['GAME_DATE_EST']\n",
    "        day = s_data[s_data['STANDINGSDATE'] == date]\n",
    "        for i, r in day.iterrows():\n",
    "            if(r['TEAM_ID'] == row['HOME_TEAM_ID']):\n",
    "                df.at[index, 'HOME_PCT'] = r['W_PCT']\n",
    "                df.at[index, 'HOME_hr'] = r['HOME_RECORD']\n",
    "                df.at[index, 'HOME_ar'] = r['ROAD_RECORD']\n",
    "\n",
    "            if(r['TEAM_ID'] == row['VISITOR_TEAM_ID']):\n",
    "                df.at[index, 'AWAY_PCT'] = r['W_PCT']\n",
    "                df.at[index, 'AWAY_hr'] = r['HOME_RECORD']\n",
    "                df.at[index, 'AWAY_ar'] = r['ROAD_RECORD']\n",
    "\n",
    "\n",
    "                \n",
    "combine(first_10)                \n",
    "first_10.head(5)"
   ]
  },
  {
   "cell_type": "code",
   "execution_count": 60,
   "metadata": {},
   "outputs": [
    {
     "name": "stdout",
     "output_type": "stream",
     "text": [
      "['24', '9']\n",
      "['25', '10']\n",
      "['13', '21']\n",
      "['28', '7']\n",
      "['20', '13']\n",
      "['24', '10']\n",
      "['17', '18']\n",
      "['8', '23']\n",
      "['20', '13']\n",
      "['24', '11']\n"
     ]
    }
   ],
   "source": [
    "for index, row in first_10.iterrows():\n",
    "    split = row['HOME_hr'].split('-')\n",
    "    print(split)\n",
    "    row['HOME_hr'] = int(split[0])/int(split[0])+int"
   ]
  },
  {
   "cell_type": "code",
   "execution_count": null,
   "metadata": {},
   "outputs": [],
   "source": []
  }
 ],
 "metadata": {
  "kernelspec": {
   "display_name": "Python 3",
   "language": "python",
   "name": "python3"
  },
  "language_info": {
   "codemirror_mode": {
    "name": "ipython",
    "version": 3
   },
   "file_extension": ".py",
   "mimetype": "text/x-python",
   "name": "python",
   "nbconvert_exporter": "python",
   "pygments_lexer": "ipython3",
   "version": "3.8.5"
  }
 },
 "nbformat": 4,
 "nbformat_minor": 4
}
